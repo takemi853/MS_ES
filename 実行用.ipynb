{
 "cells": [
  {
   "cell_type": "code",
   "execution_count": 2,
   "id": "b18ee50f",
   "metadata": {},
   "outputs": [
    {
     "name": "stdout",
     "output_type": "stream",
     "text": [
      "log.csv       log_ms5.csv                  make_ms_fast.py  test_make_ms.py\r\n",
      "log1.csv      log_ms5_without_sigma_t.csv  nohup.out        実行用.ipynb\r\n",
      "log_ms10.csv  make_ms.py                   test.ipynb\r\n"
     ]
    }
   ],
   "source": [
    "ls"
   ]
  },
  {
   "cell_type": "code",
   "execution_count": 6,
   "id": "88277c7a",
   "metadata": {},
   "outputs": [
    {
     "name": "stdout",
     "output_type": "stream",
     "text": [
      "  File \"make_ms.py\", line 35\r\n",
      "    def initMS(n: int):\r\n",
      "                ^\r\n",
      "SyntaxError: invalid syntax\r\n",
      "Exit 1\r\n"
     ]
    }
   ],
   "source": [
    "!python make_ms.py --n 5"
   ]
  },
  {
   "cell_type": "code",
   "execution_count": null,
   "id": "c565d36a",
   "metadata": {},
   "outputs": [],
   "source": []
  }
 ],
 "metadata": {
  "kernelspec": {
   "display_name": "Python 3 (ipykernel)",
   "language": "python",
   "name": "python3"
  },
  "language_info": {
   "codemirror_mode": {
    "name": "ipython",
    "version": 3
   },
   "file_extension": ".py",
   "mimetype": "text/x-python",
   "name": "python",
   "nbconvert_exporter": "python",
   "pygments_lexer": "ipython3",
   "version": "3.9.7"
  }
 },
 "nbformat": 4,
 "nbformat_minor": 5
}
